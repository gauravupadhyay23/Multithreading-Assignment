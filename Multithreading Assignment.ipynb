{
 "cells": [
  {
   "cell_type": "markdown",
   "id": "f9ffd351",
   "metadata": {},
   "source": [
    "Q1. What is multithreading in python? Why is it used? Name the module used to handle threads in python"
   ]
  },
  {
   "cell_type": "markdown",
   "id": "24af97cf",
   "metadata": {},
   "source": [
    "A1. Multithreading in Python is a programming concept that allows a single process to \n",
    "execute multiple threads concurrently. \n",
    "\n",
    "Multithreading is used for various reasons, including:\n",
    "\n",
    "1.Improved Responsiveness\n",
    "2.Enhanced Utilization of CPU Cores\n",
    "3. Efficient I/O Operations\n",
    "\n",
    "The module used to handle threads in Python is threading. "
   ]
  },
  {
   "cell_type": "markdown",
   "id": "f32e8027",
   "metadata": {},
   "source": [
    "Q2. Why threading module used? Write the use of the following functions\n",
    " activeCount\n",
    " currentThread\n",
    " enumerate"
   ]
  },
  {
   "cell_type": "markdown",
   "id": "41260e43",
   "metadata": {},
   "source": [
    "A2. The threading module is used in Python to facilitate multithreading, which allows\n",
    "a single process to execute multiple threads concurrently.\n",
    "\n",
    "activeCount(): This function returns the number of active threads in the current process. \n",
    "    It provides information about the current level of concurrency in the program.\n",
    "\n",
    "currentThread(): This function returns the current thread object, representing the thread that is \n",
    "    currently executing the code. It is useful for identifying the thread context and accessing \n",
    "    thread-specific information.\n",
    "\n",
    "enumerate(): This function returns an iterator that generates a sequence of active thread objects \n",
    "    in the current process. It allows for iterating over all active threads to perform operations \n",
    "    on each thread."
   ]
  },
  {
   "cell_type": "markdown",
   "id": "263e008c",
   "metadata": {},
   "source": [
    "Q3. Explain the following functions\n",
    "( run\n",
    " start\n",
    " join\n",
    " isAlive)"
   ]
  },
  {
   "cell_type": "markdown",
   "id": "5e00e4ee",
   "metadata": {},
   "source": [
    "A3.\n",
    "\n",
    "run(): This method defines the code that the thread will execute. It is typically \n",
    "    overridden in a subclass of Thread to implement the specific task for the thread. \n",
    "    The run() method is called when the thread is started using the start() method.\n",
    "\n",
    "start(): This method initiates the execution of the thread. It calls the run() method of the \n",
    "    thread object and allows the thread to start running concurrently with other threads in the process. \n",
    "    Once started, the thread will continue to execute until it finishes its task or is terminated.\n",
    "\n",
    "join(): This method blocks the calling thread until the thread on which it is called terminates. \n",
    "    It is used to synchronize threads and ensure that a particular thread has completed its task \n",
    "    before proceeding with other operations. The join() method can also take an optional timeout argument, \n",
    "    specifying the maximum time to wait for the thread to finish.\n",
    "\n",
    "isAlive(): This method checks whether the thread is currently alive, meaning it has been \n",
    "    started and has not yet terminated. It returns True if the thread is alive and False if \n",
    "    it has finished executing or has been terminated."
   ]
  },
  {
   "cell_type": "markdown",
   "id": "b876b7bb",
   "metadata": {},
   "source": [
    "Q4. Write a python program to create two threads. Thread one must print the list of squares and thread\n",
    "two must print the list of cubes"
   ]
  },
  {
   "cell_type": "code",
   "execution_count": 1,
   "id": "b01d3ce9",
   "metadata": {},
   "outputs": [
    {
     "name": "stdout",
     "output_type": "stream",
     "text": [
      "The square of 2 is 4\n",
      "The square of 6 is 36\n",
      "The square of 8 is 64\n",
      "The square of 9 is 81\n",
      "The cube of 2 is 8\n",
      "The cube of 6 is 216\n",
      "The cube of 8 is 512\n",
      "The cube of 9 is 729\n"
     ]
    }
   ],
   "source": [
    "import threading\n",
    "\n",
    "def square(x):\n",
    "    print (f\"The square of {x} is {x**2}\") \n",
    "\n",
    "def cube(x):\n",
    "    print (f\"The cube of {x} is {x**3}\") \n",
    "\n",
    "thread1 = [threading.Thread(target=square, args=(i,)) for i in [2,6,8,9]]\n",
    "thread2 = [threading.Thread(target=cube, args=(i,)) for i in [2,6,8,9]]\n",
    "\n",
    "for t1 in thread1:\n",
    "    t1.start()\n",
    "    \n",
    "for t2 in thread2:\n",
    "    t2.start()"
   ]
  },
  {
   "cell_type": "markdown",
   "id": "8cc6fd2d",
   "metadata": {},
   "source": [
    "Q5. State advantages and disadvantages of multithreading"
   ]
  },
  {
   "cell_type": "markdown",
   "id": "52ed4b5e",
   "metadata": {},
   "source": [
    "A5. Advantages:\n",
    "    \n",
    "1. Improved Responsiveness \n",
    "2. Enhanced Utilization of CPU Cores\n",
    "3. Efficient I/O Operations\n",
    "4. Simplified Code Structure\n",
    "\n",
    "Disadvantages:\n",
    "1. Increased Complexity\n",
    "2. Debugging Difficulty\n",
    "3. Overhead and Context Switching\n",
    "4. Deadlocks and Resource Contention"
   ]
  },
  {
   "cell_type": "markdown",
   "id": "e46b9e87",
   "metadata": {},
   "source": [
    "Q6. Explain deadlocks and race conditions."
   ]
  },
  {
   "cell_type": "code",
   "execution_count": null,
   "id": "f4c77f39",
   "metadata": {},
   "outputs": [],
   "source": [
    "Deadlock: A deadlock occurs when two or more threads are blocked waiting for each other to \n",
    "    release resources they hold. Each thread is waiting for a resource held by another thread, \n",
    "    creating a circular dependency that prevents any progress. Deadlocks can cause the program to\n",
    "    hang or freeze indefinitely.\n",
    "\n",
    "Race Condition: A race condition occurs when multiple threads access and modify a shared \n",
    "    resource without proper synchronization. The outcome of the operation depends on the timing \n",
    "    of thread execution, leading to unpredictable results and potential data corruption.\n",
    "    Race conditions can cause incorrect calculations, inconsistent data states, or even crashes."
   ]
  }
 ],
 "metadata": {
  "kernelspec": {
   "display_name": "Python 3 (ipykernel)",
   "language": "python",
   "name": "python3"
  },
  "language_info": {
   "codemirror_mode": {
    "name": "ipython",
    "version": 3
   },
   "file_extension": ".py",
   "mimetype": "text/x-python",
   "name": "python",
   "nbconvert_exporter": "python",
   "pygments_lexer": "ipython3",
   "version": "3.11.5"
  }
 },
 "nbformat": 4,
 "nbformat_minor": 5
}
